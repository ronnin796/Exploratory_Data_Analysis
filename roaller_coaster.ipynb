{
 "cells": [
  {
   "cell_type": "code",
   "execution_count": 24,
   "id": "6253de6b",
   "metadata": {},
   "outputs": [],
   "source": [
    "import pandas as pd\n",
    "import numpy as np\n",
    "\n",
    "import seaborn as sns\n",
    "import matplotlib.pyplot as plt\n",
    "\n",
    "plt.style.use('ggplot')\n",
    "\n",
    "df = pd.read_csv('./coaster_db.csv')"
   ]
  },
  {
   "cell_type": "code",
   "execution_count": null,
   "id": "3e547e96",
   "metadata": {},
   "outputs": [],
   "source": [
    "df.head()\n",
    "\n",
    "df.columns\n",
    "# df = df.drop(columns=['Location', 'Status', 'Opening date',\n",
    "#        'Type',  'Model', 'Height',\n",
    "#        'speed_mph', 'height_value', 'Height restriction' , 'height_unit', 'height_ft',\n",
    "#        'Inversions_clean', 'Gforce_clean']).copy()\n",
    "\n",
    "df = df[['coaster_name',\n",
    "       #    'Length', 'Speed', 'Location', 'Status', 'Opening date',\n",
    "       # 'Type',\n",
    "         'Manufacturer',\n",
    "       #   , 'Height restriction', 'Model', 'Height',\n",
    "       # 'Inversions', 'Lift/launch system', 'Cost', 'Trains', 'Park section',\n",
    "       # 'Duration', 'Capacity', 'G-force', 'Designer', 'Max vertical angle',\n",
    "       # 'Drop', 'Soft opening date', 'Fast Lane available', 'Replaced',\n",
    "       # 'Track layout', 'Fastrack available', 'Soft opening date.1',\n",
    "       # 'Closing date'\n",
    "       # , \n",
    "       'Opened',\n",
    "       #   'Replaced by', 'Website',\n",
    "       # 'Flash Pass Available', 'Must transfer from wheelchair', 'Theme',\n",
    "       # 'Single rider line available', 'Restraint Style',\n",
    "       # 'Flash Pass available', 'Acceleration', 'Restraints', 'Name',\n",
    "       'year_introduced', 'latitude', 'longitude', 'Type_Main',\n",
    "       'opening_date_clean', \n",
    "       # 'speed1', 'speed2', 'speed1_value', 'speed1_unit',\n",
    "       'speed_mph',\n",
    "       # , \n",
    "       # height_value', 'height_unit', \n",
    "       'height_ft',\n",
    "       'Inversions_clean', 'Gforce_clean']].copy()\n",
    "    "
   ]
  },
  {
   "cell_type": "code",
   "execution_count": 30,
   "id": "05850814",
   "metadata": {},
   "outputs": [],
   "source": [
    "df.rename(columns={'coaster_name': 'Coaster_Name',\n",
    "                   'Manufacturer': 'Manufacturer',\n",
    "                   'Opened': 'Opened',\n",
    "                   'year_introduced': 'Year_Introduced',\n",
    "                   'latitude': 'Latitude',\n",
    "                   'longitude': 'Longitude',\n",
    "                   'Type_Main': 'Type Main',\n",
    "                   'opening_date_clean': 'Opening_Date',\n",
    "                   'speed_mph': 'Speed',\n",
    "                   'height_ft': 'Height',\n",
    "                   'Inversions_clean': 'Inversions',\n",
    "                   'Gforce_clean': 'GForce'}, inplace=True)"
   ]
  },
  {
   "cell_type": "code",
   "execution_count": null,
   "id": "a7f3dda0",
   "metadata": {},
   "outputs": [
    {
     "data": {
      "text/plain": [
       "0       False\n",
       "1       False\n",
       "2       False\n",
       "3       False\n",
       "4       False\n",
       "        ...  \n",
       "1082    False\n",
       "1083    False\n",
       "1084    False\n",
       "1085    False\n",
       "1086    False\n",
       "Length: 1087, dtype: bool"
      ]
     },
     "execution_count": 12,
     "metadata": {},
     "output_type": "execute_result"
    }
   ],
   "source": [
    "df.duplicated(subset=[''])\n"
   ]
  },
  {
   "cell_type": "code",
   "execution_count": null,
   "id": "5150bd4f",
   "metadata": {},
   "outputs": [],
   "source": []
  }
 ],
 "metadata": {
  "kernelspec": {
   "display_name": "MLapps",
   "language": "python",
   "name": "python3"
  },
  "language_info": {
   "codemirror_mode": {
    "name": "ipython",
    "version": 3
   },
   "file_extension": ".py",
   "mimetype": "text/x-python",
   "name": "python",
   "nbconvert_exporter": "python",
   "pygments_lexer": "ipython3",
   "version": "3.11.13"
  }
 },
 "nbformat": 4,
 "nbformat_minor": 5
}
