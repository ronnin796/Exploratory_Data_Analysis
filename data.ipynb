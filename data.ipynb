{
 "cells": [
  {
   "cell_type": "code",
   "execution_count": 5,
   "id": "535e0d31",
   "metadata": {},
   "outputs": [
    {
     "name": "stdout",
     "output_type": "stream",
     "text": [
      "Path to dataset files: /home/kygiet/.cache/kagglehub/datasets/firedmosquito831/student-academic-performance-simulation-4000/versions/2\n"
     ]
    }
   ],
   "source": [
    "import pandas as pd\n",
    "import numpy as np\n",
    "import matplotlib.pylab as plt \n",
    "import seaborn as sns\n",
    "plt.style.use('ggplot')\n",
    "\n",
    "import kagglehub\n",
    "\n",
    "pd.set_option('display.max_columns', 200)\n",
    "# Download latest version\n",
    "path = kagglehub.dataset_download(\"firedmosquito831/student-academic-performance-simulation-4000\")\n",
    "\n",
    "print(\"Path to dataset files:\", path)\n",
    "\n"
   ]
  },
  {
   "cell_type": "code",
   "execution_count": null,
   "id": "bb5b5db3",
   "metadata": {},
   "outputs": [
    {
     "data": {
      "text/plain": [
       "Index(['Gender', 'HoursStudied/Week', 'Tutoring', 'Region', 'Attendance(%)',\n",
       "       'Parent Education', 'Exam_Score'],\n",
       "      dtype='object')"
      ]
     },
     "execution_count": 9,
     "metadata": {},
     "output_type": "execute_result"
    }
   ],
   "source": [
    "df = pd.read_csv(path + '/student_performance.csv')\n",
    "df.shape\n",
    "df.head()\n",
    "df.columns\n",
    "# pd[date] = pd.to_datetime(df['date'], format='%Y-%m-%d %H:%M:%S')\n",
    "# df = df[['']].copy()\n",
    "# df.drop(columns=['Unnamed: 0'], inplace=True)\n",
    "# df.describe()\n",
    "#df = df.rename(columns={'Unnamed: 0': 'id'}, inplace=True)"
   ]
  },
  {
   "cell_type": "code",
   "execution_count": 13,
   "id": "d0a5f025",
   "metadata": {},
   "outputs": [
    {
     "data": {
      "text/plain": [
       "np.int64(0)"
      ]
     },
     "execution_count": 13,
     "metadata": {},
     "output_type": "execute_result"
    }
   ],
   "source": [
    "df.isna().sum()\n",
    "df.duplicated().sum()"
   ]
  }
 ],
 "metadata": {
  "kernelspec": {
   "display_name": "MLapps",
   "language": "python",
   "name": "python3"
  },
  "language_info": {
   "codemirror_mode": {
    "name": "ipython",
    "version": 3
   },
   "file_extension": ".py",
   "mimetype": "text/x-python",
   "name": "python",
   "nbconvert_exporter": "python",
   "pygments_lexer": "ipython3",
   "version": "3.11.13"
  }
 },
 "nbformat": 4,
 "nbformat_minor": 5
}
